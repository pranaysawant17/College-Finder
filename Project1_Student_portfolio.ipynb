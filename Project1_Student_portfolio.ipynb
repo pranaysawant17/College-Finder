{
  "nbformat": 4,
  "nbformat_minor": 0,
  "metadata": {
    "colab": {
      "name": "Project1 Student portfolio.ipynb",
      "provenance": [],
      "collapsed_sections": [],
      "authorship_tag": "ABX9TyM5gviIexDjGyY645xzr7Fm",
      "include_colab_link": true
    },
    "kernelspec": {
      "name": "python3",
      "display_name": "Python 3"
    },
    "language_info": {
      "name": "python"
    }
  },
  "cells": [
    {
      "cell_type": "markdown",
      "metadata": {
        "id": "view-in-github",
        "colab_type": "text"
      },
      "source": [
        "<a href=\"https://colab.research.google.com/github/pranaysawant17/College-Finder/blob/main/Project1_Student_portfolio.ipynb\" target=\"_parent\"><img src=\"https://colab.research.google.com/assets/colab-badge.svg\" alt=\"Open In Colab\"/></a>"
      ]
    },
    {
      "cell_type": "code",
      "metadata": {
        "id": "58qYm3_AUDWN"
      },
      "source": [
        "#Project1 : Student Portfolio"
      ],
      "execution_count": null,
      "outputs": []
    },
    {
      "cell_type": "markdown",
      "metadata": {
        "id": "mVM4CgehVMt8"
      },
      "source": [
        "#Project1 : Student Portfolio"
      ]
    },
    {
      "cell_type": "code",
      "metadata": {
        "colab": {
          "base_uri": "https://localhost:8080/"
        },
        "id": "bHJHrObQVLnn",
        "outputId": "89dfbf98-7514-4836-9f08-e9ae0f4dcc8f"
      },
      "source": [
        "name=str(input(\"Enter your Name:\"))\n",
        "std=str(input(\"Enter your Standard:\"))\n",
        "roll_no=str(input(\"Enter your Roll Number:\"))\n",
        "sci=int(input(\"Enter your Science Marks:\"))\n",
        "mat=int(input(\"Enter your Maths Marks:\"))\n",
        "eng=int(input(\"Enter your English Marks:\"))\n",
        "percent=round(((sci+mat+eng)/300)*100,2)\n",
        "\n",
        "print(\"\\n Output \\n\")\n",
        "print(\"Name: \"+name)\n",
        "print(\"Standard: \"+std)\n",
        "print(\"Roll Number: \"+roll_no)\n",
        "print(\"Science Marks: \",sci)\n",
        "print(\"Maths Marks: \",mat)\n",
        "print(\"English Marks:\",eng)\n",
        "print(\"Percentage:\",percent)\n"
      ],
      "execution_count": null,
      "outputs": [
        {
          "output_type": "stream",
          "text": [
            "Enter your Name:Pranay\n",
            "Enter your Standard:12B\n",
            "Enter your Roll Number:123456\n",
            "Enter your Science Marks:82\n",
            "Enter your Maths Marks:85\n",
            "Enter your English Marks:80\n",
            "\n",
            " Output \n",
            "\n",
            "Name: Pranay\n",
            "Standard: 12B\n",
            "Roll Number: 123456\n",
            "Science Marks:  82\n",
            "Maths Marks:  85\n",
            "English Marks: 80\n",
            "Percentage: 82.33\n"
          ],
          "name": "stdout"
        }
      ]
    }
  ]
}